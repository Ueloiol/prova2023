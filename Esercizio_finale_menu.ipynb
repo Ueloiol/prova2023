{
  "nbformat": 4,
  "nbformat_minor": 0,
  "metadata": {
    "colab": {
      "provenance": []
    },
    "kernelspec": {
      "name": "python3",
      "display_name": "Python 3"
    },
    "language_info": {
      "name": "python"
    }
  },
  "cells": [
    {
      "cell_type": "code",
      "execution_count": 8,
      "metadata": {
        "colab": {
          "base_uri": "https://localhost:8080/"
        },
        "id": "14XIZMCjka9z",
        "outputId": "af82ae3d-6c2a-4299-d04f-16047b8b4b6c"
      },
      "outputs": [
        {
          "name": "stdout",
          "output_type": "stream",
          "text": [
            "(1) nuovo ordine (2) togli ordine (3) elenco piatti (4) conto1\n",
            "inserisci il nome del piatto:pasta\n",
            "inserisci la quantita2\n",
            "inserisci il prezzo del piatto40\n"
          ]
        }
      ],
      "source": [
        "flag= True\n",
        "menu={}\n",
        "while flag==True:\n",
        "  scelta =input('(1) nuovo ordine (2) togli ordine (3) elenco piatti (4) conto')\n",
        "\n",
        "  \n",
        "  # SCELTA 1: il cliente inserisce un nuovo piatto\n",
        "  if scelta =='1':            \n",
        "    piatto = input('inserisci il nome del piatto:')\n",
        "    quantita = int(input('inserisci la quantita'))\n",
        "    prezzo = int(input('inserisci il prezzo del piatto'))\n",
        "\n",
        "    menu[piatto]=[quantita, prezzo]\n",
        "\n",
        "  # SCELTA 2: eliminazione di un piatto dal menu\n",
        "  if scelta == '2':\n",
        "    togliere=input('inserisci l ordine da togliere')\n",
        "    del menu[togliere]\n",
        "\n",
        "\n",
        "\n",
        "  # SCELTA 3: visualizzazione intero menu\n",
        "  elif scelta =='3':            \n",
        "    for key in menu.keys():\n",
        "      print(key, menu[key][0], menu[key][1])\n",
        "\n",
        "\n",
        "  # SCELTA 4: visualizzazione conto\n",
        "  elif scelta =='4': \n",
        "    conto=0           \n",
        "    for key in menu.keys():\n",
        "      conto += menu[key][0] * menu[key][1]\n",
        "    print(conto)\n",
        "  \n",
        "  # SCELTA 4: nel caso inserissimo altri comandi, eliminiamo il dizionario \n",
        "  # e usciamo dal ciclo while\n",
        "  else:\n",
        "    del menu\n",
        "    flag=False"
      ]
    }
  ]
}