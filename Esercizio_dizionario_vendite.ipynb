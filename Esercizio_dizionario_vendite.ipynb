{
  "nbformat": 4,
  "nbformat_minor": 0,
  "metadata": {
    "colab": {
      "provenance": []
    },
    "kernelspec": {
      "name": "python3",
      "display_name": "Python 3"
    },
    "language_info": {
      "name": "python"
    }
  },
  "cells": [
    {
      "cell_type": "code",
      "execution_count": null,
      "metadata": {
        "id": "v-VSRkShVYOU"
      },
      "outputs": [],
      "source": [
        "\"\"\"\n",
        "\n",
        "1) Aggiungi una vendita di un prodotto (si richiede all'utente il nome del \n",
        "prodotto, la quantità ed il prezzo per unità)\n",
        "\n",
        "2) Visualizzare il totale delle vendite per ogni prodotto per ogni prodotto \n",
        "presente nel registro\n",
        "\n",
        "\n",
        "Suggerimento: utilizzare un dizionario per memorizzare le vendite dei prodotti \n",
        "(le chiavi sono i nomi dei prodotti e i valori sono liste che contengono \n",
        "quantità e prezzo unitario) \n",
        "\n",
        "\"\"\""
      ]
    },
    {
      "cell_type": "code",
      "source": [
        "flag= True\n",
        "diz={}\n",
        "while flag==True:\n",
        "  scelta =input('(1) inserisci un nuovo prodotto (2) visualizza vendite per prodotto')\n",
        "\n",
        "  if scelta =='1':\n",
        "    prodotto = input('inserisci il nome prodotto:')\n",
        "    quantita = int(input('inserisci il numero delle vendite per il prodotto specifico'))\n",
        "    prezzo = int(input('inserisci il prezzo del prodotto'))\n",
        "\n",
        "    diz[prodotto]=[quantita, prezzo]\n",
        "\n",
        "  elif scelta =='2':\n",
        "    for key in diz.keys():\n",
        "      print(key, diz[key][0])\n",
        "  \n",
        "  else:\n",
        "    del diz\n",
        "    flag=False\n",
        "  "
      ],
      "metadata": {
        "colab": {
          "base_uri": "https://localhost:8080/"
        },
        "id": "Zo1a9MWSY4Tl",
        "outputId": "9a0f5daa-4491-4d28-8bea-4eebeaac220d"
      },
      "execution_count": 24,
      "outputs": [
        {
          "name": "stdout",
          "output_type": "stream",
          "text": [
            "(1) inserisci un nuovo prodotto (2) visualizza vendite per prodotto1\n",
            "inserisci il nome prodotto:sedia\n",
            "inserisci il numero delle vendite per il prodotto specifico15\n",
            "inserisci il prezzo del prodotto45\n",
            "(1) inserisci un nuovo prodotto (2) visualizza vendite per prodotto1\n",
            "inserisci il nome prodotto:tavolo\n",
            "inserisci il numero delle vendite per il prodotto specifico1\n",
            "inserisci il prezzo del prodotto600\n",
            "(1) inserisci un nuovo prodotto (2) visualizza vendite per prodotto1\n",
            "inserisci il nome prodotto:tablet\n",
            "inserisci il numero delle vendite per il prodotto specifico10\n",
            "inserisci il prezzo del prodotto700\n",
            "(1) inserisci un nuovo prodotto (2) visualizza vendite per prodotto2\n",
            "sedia 15\n",
            "tavolo 1\n",
            "tablet 10\n",
            "(1) inserisci un nuovo prodotto (2) visualizza vendite per prodotto3\n"
          ]
        }
      ]
    }
  ]
}